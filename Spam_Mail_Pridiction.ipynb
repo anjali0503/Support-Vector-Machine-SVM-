{
  "nbformat": 4,
  "nbformat_minor": 0,
  "metadata": {
    "colab": {
      "name": "Spam Mail Pridiction.ipynb",
      "provenance": [],
      "authorship_tag": "ABX9TyNpGm53Auu0aVlI4e8q2/Uv",
      "include_colab_link": true
    },
    "kernelspec": {
      "name": "python3",
      "display_name": "Python 3"
    },
    "language_info": {
      "name": "python"
    }
  },
  "cells": [
    {
      "cell_type": "markdown",
      "metadata": {
        "id": "view-in-github",
        "colab_type": "text"
      },
      "source": [
        "<a href=\"https://colab.research.google.com/github/anjali0503/Support-Vector-Machine-SVM-/blob/main/Spam_Mail_Pridiction.ipynb\" target=\"_parent\"><img src=\"https://colab.research.google.com/assets/colab-badge.svg\" alt=\"Open In Colab\"/></a>"
      ]
    },
    {
      "cell_type": "markdown",
      "metadata": {
        "id": "o-XMw67yPWta"
      },
      "source": [
        "#**SPAM MAIL PRIDICTION** using **SUPPORT VECTOR MACHINE** (SVM)\n",
        "\n"
      ]
    },
    {
      "cell_type": "markdown",
      "metadata": {
        "id": "QxfVJra3SD47"
      },
      "source": [
        "##Support vector Machine (**SVM**)\n",
        "\n",
        "Support vector machines (SVMs) are a set of supervised learning methods used for classification, regression and outliers detection.\n",
        "\n",
        "###The advantages of support vector machines are:\n",
        "\n",
        "Effective in high dimensional spaces.\n",
        "\n",
        "Still effective in cases where number of dimensions is greater than the number of samples.\n",
        "\n",
        "Uses a subset of training points in the decision function (called support vectors), so it is also memory efficient.\n",
        "\n",
        "Versatile: different Kernel functions can be specified for the decision function. Common kernels are provided, but it is also possible to specify custom kernels.\n",
        "\n",
        "\n"
      ]
    },
    {
      "cell_type": "code",
      "metadata": {
        "id": "5P_DbmTrOsP3"
      },
      "source": [
        "# importing dependencies\n",
        "\n",
        "import numpy as np\n",
        "import pandas as pd\n",
        "from sklearn.model_selection import train_test_split # this function is used to separate data from test and train splits\n",
        "from sklearn.feature_extraction.text import TfidfVectorizer # TfidfVectorizer  is use to exteact feacture \n",
        "from sklearn.svm import LinearSVC\n",
        "from sklearn.metrics import accuracy_score # we need accuracy score to check how well model works , its for evalution part\n"
      ],
      "execution_count": 18,
      "outputs": []
    },
    {
      "cell_type": "code",
      "metadata": {
        "id": "sfIkLU-fPWK_"
      },
      "source": [
        "##   data preprosessing \n",
        "\n",
        "# loading data to pandas data fram\n",
        "\n",
        "raw_mail_data = pd.read_csv('spam.csv',encoding=\"latin1\")\n",
        "\n",
        "#replace the null value to null str\n",
        "mail_data = raw_mail_data.where((pd.notnull(raw_mail_data)),\"\")\n"
      ],
      "execution_count": 19,
      "outputs": []
    },
    {
      "cell_type": "code",
      "metadata": {
        "colab": {
          "base_uri": "https://localhost:8080/"
        },
        "id": "n8CgpVNtatLk",
        "outputId": "137cea3d-4653-4fe7-d2f1-f4ec8672652c"
      },
      "source": [
        "mail_data.shape"
      ],
      "execution_count": 20,
      "outputs": [
        {
          "output_type": "execute_result",
          "data": {
            "text/plain": [
              "(5572, 5)"
            ]
          },
          "metadata": {
            "tags": []
          },
          "execution_count": 20
        }
      ]
    },
    {
      "cell_type": "code",
      "metadata": {
        "colab": {
          "base_uri": "https://localhost:8080/",
          "height": 197
        },
        "id": "pHoQXTF7eJ1S",
        "outputId": "553285d9-4696-4587-f1dc-4191b1de6214"
      },
      "source": [
        "mail_data.head()"
      ],
      "execution_count": 21,
      "outputs": [
        {
          "output_type": "execute_result",
          "data": {
            "text/html": [
              "<div>\n",
              "<style scoped>\n",
              "    .dataframe tbody tr th:only-of-type {\n",
              "        vertical-align: middle;\n",
              "    }\n",
              "\n",
              "    .dataframe tbody tr th {\n",
              "        vertical-align: top;\n",
              "    }\n",
              "\n",
              "    .dataframe thead th {\n",
              "        text-align: right;\n",
              "    }\n",
              "</style>\n",
              "<table border=\"1\" class=\"dataframe\">\n",
              "  <thead>\n",
              "    <tr style=\"text-align: right;\">\n",
              "      <th></th>\n",
              "      <th>categories</th>\n",
              "      <th>message</th>\n",
              "      <th>Unnamed: 2</th>\n",
              "      <th>Unnamed: 3</th>\n",
              "      <th>Unnamed: 4</th>\n",
              "    </tr>\n",
              "  </thead>\n",
              "  <tbody>\n",
              "    <tr>\n",
              "      <th>0</th>\n",
              "      <td>ham</td>\n",
              "      <td>Go until jurong point, crazy.. Available only ...</td>\n",
              "      <td></td>\n",
              "      <td></td>\n",
              "      <td></td>\n",
              "    </tr>\n",
              "    <tr>\n",
              "      <th>1</th>\n",
              "      <td>ham</td>\n",
              "      <td>Ok lar... Joking wif u oni...</td>\n",
              "      <td></td>\n",
              "      <td></td>\n",
              "      <td></td>\n",
              "    </tr>\n",
              "    <tr>\n",
              "      <th>2</th>\n",
              "      <td>spam</td>\n",
              "      <td>Free entry in 2 a wkly comp to win FA Cup fina...</td>\n",
              "      <td></td>\n",
              "      <td></td>\n",
              "      <td></td>\n",
              "    </tr>\n",
              "    <tr>\n",
              "      <th>3</th>\n",
              "      <td>ham</td>\n",
              "      <td>U dun say so early hor... U c already then say...</td>\n",
              "      <td></td>\n",
              "      <td></td>\n",
              "      <td></td>\n",
              "    </tr>\n",
              "    <tr>\n",
              "      <th>4</th>\n",
              "      <td>ham</td>\n",
              "      <td>Nah I don't think he goes to usf, he lives aro...</td>\n",
              "      <td></td>\n",
              "      <td></td>\n",
              "      <td></td>\n",
              "    </tr>\n",
              "  </tbody>\n",
              "</table>\n",
              "</div>"
            ],
            "text/plain": [
              "  categories  ... Unnamed: 4\n",
              "0        ham  ...           \n",
              "1        ham  ...           \n",
              "2       spam  ...           \n",
              "3        ham  ...           \n",
              "4        ham  ...           \n",
              "\n",
              "[5 rows x 5 columns]"
            ]
          },
          "metadata": {
            "tags": []
          },
          "execution_count": 21
        }
      ]
    },
    {
      "cell_type": "code",
      "metadata": {
        "id": "fgu3p-ryeJ5l"
      },
      "source": [
        "# label spam mail as 0 ; and non spam mail (ham) as 1.\n",
        "mail_data.loc[mail_data['categories'] == \"spam\" , \"categories\"] = 0 #this is use to locate the sample\n",
        "mail_data.loc[mail_data[\"categories\"] == \"ham\" , \"categories\"] = 1"
      ],
      "execution_count": 23,
      "outputs": []
    },
    {
      "cell_type": "code",
      "metadata": {
        "id": "Ldcz5gbKjJ0L"
      },
      "source": [
        " #  now will separate the data as text and label -----> where text = X & label = Y\n",
        " X = mail_data[\"message\"]\n",
        " Y = mail_data[\"categories\"]"
      ],
      "execution_count": 26,
      "outputs": []
    },
    {
      "cell_type": "code",
      "metadata": {
        "colab": {
          "base_uri": "https://localhost:8080/"
        },
        "id": "MVQnSZ6EkUXI",
        "outputId": "fe0c92f6-4579-4b3e-b5fd-d5c3a8df0e8e"
      },
      "source": [
        "print(X)\n",
        "print(\"-----------------------------------------------------------\")\n",
        "print(Y)"
      ],
      "execution_count": 28,
      "outputs": [
        {
          "output_type": "stream",
          "text": [
            "0       Go until jurong point, crazy.. Available only ...\n",
            "1                           Ok lar... Joking wif u oni...\n",
            "2       Free entry in 2 a wkly comp to win FA Cup fina...\n",
            "3       U dun say so early hor... U c already then say...\n",
            "4       Nah I don't think he goes to usf, he lives aro...\n",
            "                              ...                        \n",
            "5567    This is the 2nd time we have tried 2 contact u...\n",
            "5568                Will Ì_ b going to esplanade fr home?\n",
            "5569    Pity, * was in mood for that. So...any other s...\n",
            "5570    The guy did some bitching but I acted like i'd...\n",
            "5571                           Rofl. Its true to its name\n",
            "Name: message, Length: 5572, dtype: object\n",
            "-----------------------------------------------------------\n",
            "0       1\n",
            "1       1\n",
            "2       0\n",
            "3       1\n",
            "4       1\n",
            "       ..\n",
            "5567    0\n",
            "5568    1\n",
            "5569    1\n",
            "5570    1\n",
            "5571    1\n",
            "Name: categories, Length: 5572, dtype: object\n"
          ],
          "name": "stdout"
        }
      ]
    },
    {
      "cell_type": "markdown",
      "metadata": {
        "id": "kyaitqB0l5RR"
      },
      "source": [
        "TRAIN AND TEST SPLIT"
      ]
    },
    {
      "cell_type": "code",
      "metadata": {
        "id": "-dFuZm5XkY8d"
      },
      "source": [
        "# split the the data as train data and split data\n",
        "X_train ,X_test, Y_train,Y_test = train_test_split(X,Y,train_size = 0.8,test_size = 0.2,random_state = 3)"
      ],
      "execution_count": 29,
      "outputs": []
    },
    {
      "cell_type": "markdown",
      "metadata": {
        "id": "1s9CPhdVnV07"
      },
      "source": [
        "Feacture Extraction"
      ]
    },
    {
      "cell_type": "code",
      "metadata": {
        "id": "PSiUhqjgnb6f"
      },
      "source": [
        "# tranfroming text data to feacture vectores that can be used as inpute to the SVM model using Tfidfvectorizator\n",
        "# convert the message to lower case letters\n",
        "\n",
        "feacture_extraction = TfidfVectorizer(min_df= 1 , stop_words=\"english\",lowercase=\"True\")\n",
        "X_train_feactures = feacture_extraction.fit_transform(X_train)\n",
        "X_test_feactures = feacture_extraction.transform(X_test)\n",
        "\n",
        "# convert Y_train and Y_test values as interger\n",
        "Y_train = Y_train.astype(\"int\")\n",
        "Y_test = Y_test.astype(\"int\")\n",
        "\n",
        "\n",
        "\n"
      ],
      "execution_count": 33,
      "outputs": []
    },
    {
      "cell_type": "markdown",
      "metadata": {
        "id": "rfipL4SfpyL_"
      },
      "source": [
        "Training the Model **Support vector machine**"
      ]
    },
    {
      "cell_type": "code",
      "metadata": {
        "colab": {
          "base_uri": "https://localhost:8080/"
        },
        "id": "jI9COtLKoqCq",
        "outputId": "e25b0a4b-019e-47e1-fd64-2031901a8e05"
      },
      "source": [
        "#traing the svm with tringing data\n",
        "\n",
        "model = LinearSVC()\n",
        "model.fit(X_train_feactures,Y_train)"
      ],
      "execution_count": 35,
      "outputs": [
        {
          "output_type": "execute_result",
          "data": {
            "text/plain": [
              "LinearSVC(C=1.0, class_weight=None, dual=True, fit_intercept=True,\n",
              "          intercept_scaling=1, loss='squared_hinge', max_iter=1000,\n",
              "          multi_class='ovr', penalty='l2', random_state=None, tol=0.0001,\n",
              "          verbose=0)"
            ]
          },
          "metadata": {
            "tags": []
          },
          "execution_count": 35
        }
      ]
    },
    {
      "cell_type": "markdown",
      "metadata": {
        "id": "ZkK1xoZJqhnP"
      },
      "source": [
        "**Evaluation** of model"
      ]
    },
    {
      "cell_type": "code",
      "metadata": {
        "id": "_KLCvzVHqZPQ"
      },
      "source": [
        "# prediction on training data\n",
        "prediction_on_training_data = model.predict(X_train_feactures)\n",
        "accuracy_on_training_data = accuracy_score(Y_train,prediction_on_training_data)\n"
      ],
      "execution_count": 36,
      "outputs": []
    },
    {
      "cell_type": "code",
      "metadata": {
        "colab": {
          "base_uri": "https://localhost:8080/"
        },
        "id": "05ggFxOOrydV",
        "outputId": "ff972257-f517-41e1-eb07-78b28e6bf387"
      },
      "source": [
        "print(\"Accuracy of training data : \" ,accuracy_on_training_data)\n"
      ],
      "execution_count": 37,
      "outputs": [
        {
          "output_type": "stream",
          "text": [
            "Accuracy of training data :  0.9995512676688355\n"
          ],
          "name": "stdout"
        }
      ]
    },
    {
      "cell_type": "code",
      "metadata": {
        "id": "ubZK9i-Nr97W"
      },
      "source": [
        "# prediction on test data\n",
        "prediction_on_test_data = model.predict(X_test_feactures)\n",
        "accuracy_on_test_data = accuracy_score(Y_test,prediction_on_test_data)\n"
      ],
      "execution_count": 39,
      "outputs": []
    },
    {
      "cell_type": "code",
      "metadata": {
        "colab": {
          "base_uri": "https://localhost:8080/"
        },
        "id": "YK0Y2-d_sd7G",
        "outputId": "42d83741-ff82-450f-c07a-868d32bb3996"
      },
      "source": [
        "print(\"Accuracy of test data : \" ,accuracy_on_training_data)\n"
      ],
      "execution_count": 40,
      "outputs": [
        {
          "output_type": "stream",
          "text": [
            "Accuracy of test data :  0.9995512676688355\n"
          ],
          "name": "stdout"
        }
      ]
    },
    {
      "cell_type": "markdown",
      "metadata": {
        "id": "K6DJ1Soxso2Y"
      },
      "source": [
        "Predition on new MAIL , #testing wheather its spam or ham mail"
      ]
    },
    {
      "cell_type": "code",
      "metadata": {
        "colab": {
          "base_uri": "https://localhost:8080/"
        },
        "id": "WqGc3BAGsiLu",
        "outputId": "e45480ca-f861-492e-d1cd-48ce10614b16"
      },
      "source": [
        "input_mail = [\"URGENT! You have won a 1 week FREE membership in our å£100,000 Prize Jackpot! Txt the word: CLAIM to No: 81010 T&C www.dbuk.net LCCLTD POBOX 4403LDNW1A7RW18\"]\n",
        "#convert text  to feature vectors\n",
        "input_mail_features = feacture_extraction.transform(input_mail)\n",
        "\n",
        "#making prediction \n",
        "prediction = model.predict(input_mail_features)\n",
        "print(prediction)\n",
        "\n",
        "\n",
        "if (prediction[0] == 1):\n",
        "  print(\"Ham mail\")\n",
        "else:\n",
        "  print(\"Spam mail\")"
      ],
      "execution_count": 41,
      "outputs": [
        {
          "output_type": "stream",
          "text": [
            "[0]\n",
            "Spam mail\n"
          ],
          "name": "stdout"
        }
      ]
    },
    {
      "cell_type": "code",
      "metadata": {
        "id": "zgwGDWGguk5m"
      },
      "source": [
        ""
      ],
      "execution_count": null,
      "outputs": []
    }
  ]
}